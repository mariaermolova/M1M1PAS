{
 "cells": [
  {
   "cell_type": "code",
   "execution_count": null,
   "metadata": {},
   "outputs": [],
   "source": [
    "import pandas as pd\n",
    "import os\n",
    "from scipy import stats\n",
    "import matplotlib.pyplot as plt\n",
    "import numpy as np"
   ]
  },
  {
   "cell_type": "code",
   "execution_count": null,
   "metadata": {},
   "outputs": [],
   "source": [
    "# Load the phase lag csv file\n",
    "file_path = r\"W:\\Projects\\2019-04 M1M1PAS Project\\analysis\\source_signals\\fc_source\\sourcePhLag.csv\"\n",
    "big_df = pd.read_csv(file_path, index_col=0)"
   ]
  },
  {
   "cell_type": "code",
   "execution_count": null,
   "metadata": {},
   "outputs": [],
   "source": [
    "# Prepare subplots\n",
    "fig, axes = plt.subplots(1, 2, subplot_kw={'polar': True}, figsize=(12, 8))\n",
    "font = {'family' : 'Arial',\n",
    "        'size'   : 14}\n",
    "plt.rc('font', **font)\n",
    "\n",
    "# Plot 1\n",
    "# Normalize phase lags to be between 0 and 2*pi\n",
    "phase_lag_normalized = big_df['phase_lag'] % (2 * np.pi)\n",
    "\n",
    "# Compute circular stats\n",
    "circular_mean = stats.circmean(phase_lag_normalized, high=2*np.pi, low=0)\n",
    "circular_std = stats.circstd(phase_lag_normalized, high=2*np.pi, low=0)\n",
    "\n",
    "# Compute the histogram\n",
    "counts, bin_edges = np.histogram(phase_lag_normalized, bins=8, range=(0, 2 * np.pi), density=True)\n",
    "\n",
    "# Convert bin edges to bin centers for polar plotting\n",
    "bin_centers = (bin_edges[:-1] + bin_edges[1:]) / 2\n",
    "width = bin_edges[1] - bin_edges[0] \n",
    "\n",
    "# Plot the histogram\n",
    "ax = axes[0]\n",
    "ax.bar(bin_centers, counts, width=width, align='center')\n",
    "ax.set_theta_zero_location('E')  # top\n",
    "ax.set_theta_direction(-1)  # clockwise\n",
    "\n",
    "# Plot the mean line\n",
    "ax.plot([circular_mean, circular_mean], [0, max(counts)], color='red', linewidth=1)\n",
    "\n",
    "# Plot 2\n",
    "# Get unique subjects\n",
    "subjects = big_df['subject'].unique()\n",
    "\n",
    "# Calculate circular mean for each subject\n",
    "circular_means = []\n",
    "for i, subject in enumerate(subjects):\n",
    "    \n",
    "    \n",
    "    subject_df = big_df[(big_df['subject'] == subject)]\n",
    "    \n",
    "    phase_lag_normalized = subject_df['phase_lag'] % (2 * np.pi)\n",
    "    \n",
    "    circular_mean_sub = stats.circmean(phase_lag_normalized, high=2*np.pi, low=0)\n",
    "    circular_means.append(circular_mean_sub)\n",
    "\n",
    "# Compute the histogram\n",
    "counts, bin_edges = np.histogram(circular_means, bins=8, range=(0, 2 * np.pi), density=True)\n",
    "\n",
    "# Convert bin edges to bin centers for polar plotting\n",
    "bin_centers = (bin_edges[:-1] + bin_edges[1:]) / 2\n",
    "width = bin_edges[1] - bin_edges[0]\n",
    "\n",
    "# Plot the histogram\n",
    "ax = axes[1]\n",
    "ax.bar(bin_centers, counts, width=width, align='center')\n",
    "ax.set_theta_zero_location('E')  # top\n",
    "ax.set_theta_direction(-1)  # clockwise\n",
    "\n",
    "# Plot the mean line\n",
    "ax.plot([circular_mean, circular_mean], [0, max(counts)], color='red', linewidth=1)"
   ]
  }
 ],
 "metadata": {
  "kernelspec": {
   "display_name": "mne",
   "language": "python",
   "name": "python3"
  },
  "language_info": {
   "codemirror_mode": {
    "name": "ipython",
    "version": 3
   },
   "file_extension": ".py",
   "mimetype": "text/x-python",
   "name": "python",
   "nbconvert_exporter": "python",
   "pygments_lexer": "ipython3",
   "version": "3.12.5"
  }
 },
 "nbformat": 4,
 "nbformat_minor": 2
}
