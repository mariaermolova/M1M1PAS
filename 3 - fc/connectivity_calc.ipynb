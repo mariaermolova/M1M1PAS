{
 "cells": [
  {
   "cell_type": "code",
   "execution_count": null,
   "metadata": {},
   "outputs": [],
   "source": [
    "# # Calculate FC on source signals \n",
    "# Things to check before running: \n",
    "# path to preprocessed EED data, original srate, downsampled srate, FOI, \n",
    "# epoch length and overlap (for both wPLI and AEC), FC metric, N of cycles per wavelet, name and path of the results file"
   ]
  },
  {
   "cell_type": "code",
   "execution_count": null,
   "metadata": {},
   "outputs": [],
   "source": [
    "import mne\n",
    "import numpy as np\n",
    "from scipy.io import loadmat\n",
    "from mne_connectivity import spectral_connectivity_time, envelope_correlation\n",
    "import os\n",
    "import pandas as pd\n",
    "rng = np.random.default_rng(42)  # set seed for reproducibility"
   ]
  },
  {
   "cell_type": "code",
   "execution_count": null,
   "metadata": {},
   "outputs": [],
   "source": [
    "# Define the folder path for preprocessed EEG data\n",
    "data_folder = r\"W:\\Projects\\2019-04 M1M1PAS Project\\analysis\\source_signals\\Beamformer\"\n",
    "\n",
    "# Get a list of all the EEG files\n",
    "file_list = [f for f in os.listdir(data_folder)]\n",
    "\n",
    "# Initialize an empty list to store results\n",
    "data = []\n",
    "\n",
    "# Loop through each file in the folder\n",
    "for file in file_list:\n",
    "    \n",
    "    # Get meta data from the file name\n",
    "    subject = file.split('_')[0].replace('sub-', '')\n",
    "    task = file.split('_')[1].replace('task-', '')\n",
    "    run = file.split('_')[2].replace('run-', '')\n",
    "    \n",
    "    # Load current file\n",
    "    file_path = os.path.join(data_folder, file)\n",
    "    matlabdata = loadmat(file_path)\n",
    "    \n",
    "    # Extract source time courses\n",
    "    leftSM = matlabdata['leftSM']\n",
    "    rightSM = matlabdata['rightSM']\n",
    "\n",
    "    # Create a new MNE RawArray with the raw data\n",
    "    info = mne.create_info(ch_names=['leftSM', 'rightSM'], sfreq=1000, ch_types='eeg')\n",
    "    source_data = np.vstack([leftSM, rightSM])\n",
    "    source_raw = mne.io.RawArray(source_data, info)\n",
    "    \n",
    "    # Downsample from 1k to 200Hz\n",
    "    source_raw.resample(sfreq=200)\n",
    "    \n",
    "    # Define the FOI 8-13 HZ\n",
    "    fmin, fmax = 8., 13.\n",
    "    freqs = np.linspace(fmin, fmax, int((fmax - fmin) * 2 + 1))\n",
    "    \n",
    "    # wPLI\n",
    "    # Epoch data\n",
    "    epochs_raw = mne.make_fixed_length_epochs(source_raw, duration=2, overlap=1.5, preload=True)\n",
    "    \n",
    "    # Calculate FC\n",
    "    con = spectral_connectivity_time(\n",
    "        epochs_raw,\n",
    "        method=['wpli'],  # Select wPLI as a metric\n",
    "        freqs=freqs,\n",
    "        faverage=True,  # Average connectivity across frequencies within the band\n",
    "        mode='cwt_morlet',  # Use Morlet wavelet\n",
    "        n_cycles=5, # 5 cycles in the wavelet\n",
    "        average=False, # Retain epochs\n",
    "        n_jobs=1 \n",
    "    )\n",
    "    wpli = con.get_data()[:,2,0]\n",
    "    \n",
    "    # Collect the data\n",
    "    data.extend([(subject, task, run, wpli_val) for wpli_val in wpli])\n",
    "\n",
    "# Convert the list to a dataframe\n",
    "datapd = pd.DataFrame(data, columns=['subject','task', 'run', 'wpli'])\n",
    "\n",
    "# Save results\n",
    "new_filename = f\"sourceConnectivity.csv\"\n",
    "new_file_path = os.path.join(r\"W:\\Projects\\2019-04 M1M1PAS Project\\analysis\\source_signals\\fc_source\",new_filename)\n",
    "datapd.to_csv(new_file_path)\n"
   ]
  }
 ],
 "metadata": {
  "kernelspec": {
   "display_name": "mne",
   "language": "python",
   "name": "python3"
  },
  "language_info": {
   "codemirror_mode": {
    "name": "ipython",
    "version": 3
   },
   "file_extension": ".py",
   "mimetype": "text/x-python",
   "name": "python",
   "nbconvert_exporter": "python",
   "pygments_lexer": "ipython3",
   "version": "3.12.5"
  }
 },
 "nbformat": 4,
 "nbformat_minor": 2
}
